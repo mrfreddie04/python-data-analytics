{
  "nbformat": 4,
  "nbformat_minor": 0,
  "metadata": {
    "colab": {
      "provenance": []
    },
    "kernelspec": {
      "name": "python3",
      "display_name": "Python 3"
    },
    "language_info": {
      "name": "python"
    }
  },
  "cells": [
    {
      "cell_type": "code",
      "execution_count": 6,
      "metadata": {
        "colab": {
          "base_uri": "https://localhost:8080/"
        },
        "id": "1Yzc19L7A1U_",
        "outputId": "345d10f8-00af-4883-a3cb-a770bdacdaa0"
      },
      "outputs": [
        {
          "output_type": "stream",
          "name": "stdout",
          "text": [
            "sample_data\n"
          ]
        }
      ],
      "source": [
        "!ls\n"
      ]
    },
    {
      "cell_type": "code",
      "source": [
        "%timeit [i**2 for i in range(1000)]"
      ],
      "metadata": {
        "colab": {
          "base_uri": "https://localhost:8080/"
        },
        "id": "-MghK1A2FhDq",
        "outputId": "a86a3424-fe88-4a69-d147-4644814cadfb"
      },
      "execution_count": 7,
      "outputs": [
        {
          "output_type": "stream",
          "name": "stdout",
          "text": [
            "86.7 µs ± 24.3 µs per loop (mean ± std. dev. of 7 runs, 10000 loops each)\n"
          ]
        }
      ]
    },
    {
      "cell_type": "code",
      "source": [
        "%%timeit\n",
        "l= []\n",
        "for n in range(2000):\n",
        "  l.append(n)"
      ],
      "metadata": {
        "colab": {
          "base_uri": "https://localhost:8080/"
        },
        "id": "nckT5z5PGLyr",
        "outputId": "047ff329-0d9f-4e48-f458-6ce75823e44f"
      },
      "execution_count": 10,
      "outputs": [
        {
          "output_type": "stream",
          "name": "stdout",
          "text": [
            "67.5 µs ± 3.76 µs per loop (mean ± std. dev. of 7 runs, 10000 loops each)\n"
          ]
        }
      ]
    },
    {
      "cell_type": "code",
      "source": [
        "base_salary = 80000\n",
        "bonus_rate = 0.05\n",
        "total_salary = round(base_salary*(1 + bonus_rate),0)\n",
        "print(total_salary)"
      ],
      "metadata": {
        "colab": {
          "base_uri": "https://localhost:8080/"
        },
        "id": "Tuz8bBuXHt3k",
        "outputId": "ef70d237-f762-4f89-e2e3-0ec805d965a7"
      },
      "execution_count": 5,
      "outputs": [
        {
          "output_type": "stream",
          "name": "stdout",
          "text": [
            "84000.0\n"
          ]
        }
      ]
    },
    {
      "cell_type": "code",
      "source": [
        "id(base_salary)"
      ],
      "metadata": {
        "colab": {
          "base_uri": "https://localhost:8080/"
        },
        "id": "elqME23IJ5sy",
        "outputId": "dd8159e8-1391-461a-9fce-e666e38696db"
      },
      "execution_count": 20,
      "outputs": [
        {
          "output_type": "execute_result",
          "data": {
            "text/plain": [
              "140448085237328"
            ]
          },
          "metadata": {},
          "execution_count": 20
        }
      ]
    },
    {
      "cell_type": "code",
      "source": [
        "type(base_salary)"
      ],
      "metadata": {
        "colab": {
          "base_uri": "https://localhost:8080/"
        },
        "id": "VPegJ6BEyBAj",
        "outputId": "af85135a-f0c3-4f42-ccfe-8aa4fdff42ea"
      },
      "execution_count": 6,
      "outputs": [
        {
          "output_type": "execute_result",
          "data": {
            "text/plain": [
              "int"
            ]
          },
          "metadata": {},
          "execution_count": 6
        }
      ]
    },
    {
      "cell_type": "code",
      "source": [
        "class JobPost:\n",
        "  def __init__(self, title, location, salary):\n",
        "    self.title = title\n",
        "    self.location = location\n",
        "    self.salary = salary\n",
        "\n",
        "  def print_job_description(self):\n",
        "    print(f\"{'TITLE'.ljust(12,'.')} {self.title.title()}\")\n",
        "    print(f\"{'LOCATION'.ljust(12,'.')} {self.location.title()}\")\n",
        "    print(f\"{'SALARY'.ljust(12,'.')} ${self.salary:,}\")"
      ],
      "metadata": {
        "id": "VnJyUZ1LM3iS"
      },
      "execution_count": 1,
      "outputs": []
    },
    {
      "cell_type": "code",
      "source": [
        "job = JobPost(\"system analyst\", \"New York\", 60000)"
      ],
      "metadata": {
        "id": "k5Dd2jfgNMps"
      },
      "execution_count": 2,
      "outputs": []
    },
    {
      "cell_type": "code",
      "source": [
        "job.print_job_description()"
      ],
      "metadata": {
        "colab": {
          "base_uri": "https://localhost:8080/"
        },
        "id": "2ihpuC87NVf6",
        "outputId": "44e542ad-b54a-4ba5-a296-a87ec38a9367"
      },
      "execution_count": 3,
      "outputs": [
        {
          "output_type": "stream",
          "name": "stdout",
          "text": [
            "TITLE....... System Analyst\n",
            "LOCATION.... New York\n",
            "SALARY...... $60,000\n"
          ]
        }
      ]
    },
    {
      "cell_type": "code",
      "source": [
        "job_title=\"System Data Analyst\"\n",
        "remove_word=\"Data\"\n",
        "final_job_title=job_title.replace(remove_word,\"\")\n",
        "final_job_title=' '.join(final_job_title.split())\n",
        "print(final_job_title)"
      ],
      "metadata": {
        "colab": {
          "base_uri": "https://localhost:8080/"
        },
        "id": "uXtR7HvGyVYt",
        "outputId": "52973436-3c16-44ed-9ed8-c1b440e2de37"
      },
      "execution_count": 10,
      "outputs": [
        {
          "output_type": "stream",
          "name": "stdout",
          "text": [
            "System Analyst\n"
          ]
        }
      ]
    },
    {
      "cell_type": "code",
      "source": [
        "job_title2 = str(job_title.capitalize())\n",
        "print(id(job_title), id(job_title2))"
      ],
      "metadata": {
        "colab": {
          "base_uri": "https://localhost:8080/"
        },
        "id": "FfeRMhw5zx39",
        "outputId": "3158cf85-9a08-42f7-9619-4be63a223dae"
      },
      "execution_count": 19,
      "outputs": [
        {
          "output_type": "stream",
          "name": "stdout",
          "text": [
            "133377610024720 133377521631760\n"
          ]
        }
      ]
    },
    {
      "cell_type": "code",
      "source": [],
      "metadata": {
        "id": "--MPjLlkBTeu"
      },
      "execution_count": null,
      "outputs": []
    },
    {
      "cell_type": "code",
      "source": [
        "str.lower(job_title)"
      ],
      "metadata": {
        "colab": {
          "base_uri": "https://localhost:8080/",
          "height": 35
        },
        "id": "-f5_hfUE8nWs",
        "outputId": "9419483c-4332-4215-f2b9-531d2901c395"
      },
      "execution_count": 22,
      "outputs": [
        {
          "output_type": "execute_result",
          "data": {
            "text/plain": [
              "'system data analyst'"
            ],
            "application/vnd.google.colaboratory.intrinsic+json": {
              "type": "string"
            }
          },
          "metadata": {},
          "execution_count": 22
        }
      ]
    },
    {
      "cell_type": "code",
      "source": [
        "job_title=\"System  Data \\t\\tAnalyst\"\n",
        "print(job_title)\n",
        "words = job_title.split()\n",
        "new_job_title = \" \".join(words)\n",
        "print(new_job_title)\n",
        "words = new_job_title.split(sep=\" \",maxsplit=1)\n",
        "print(words)\n"
      ],
      "metadata": {
        "colab": {
          "base_uri": "https://localhost:8080/"
        },
        "id": "5NcBYdRcAofc",
        "outputId": "05387573-7db9-44e6-ce4f-6bfd8e3b4bda"
      },
      "execution_count": 34,
      "outputs": [
        {
          "output_type": "stream",
          "name": "stdout",
          "text": [
            "System  Data \t\tAnalyst\n",
            "System Data Analyst\n",
            "['System', 'Data Analyst']\n"
          ]
        }
      ]
    },
    {
      "cell_type": "code",
      "source": [
        "job_title = str.__add__(\"Data\",\" Analyst\")\n",
        "print(job_title)\n",
        "job_title2=\"Data\".__add__(\" Analyst\")\n",
        "print(job_title2)"
      ],
      "metadata": {
        "colab": {
          "base_uri": "https://localhost:8080/"
        },
        "id": "3WKNvSMdDGou",
        "outputId": "7d98149b-4929-4d33-fbdf-100b0396d085"
      },
      "execution_count": 41,
      "outputs": [
        {
          "output_type": "stream",
          "name": "stdout",
          "text": [
            "Data Analyst\n",
            "Data Analyst\n"
          ]
        }
      ]
    },
    {
      "cell_type": "code",
      "source": [
        "word = \"data \"\n",
        "print(word * 3)"
      ],
      "metadata": {
        "colab": {
          "base_uri": "https://localhost:8080/"
        },
        "id": "aKsHWwGlHIQ9",
        "outputId": "2ce950dc-1e79-45f2-ecfb-574777120874"
      },
      "execution_count": 42,
      "outputs": [
        {
          "output_type": "stream",
          "name": "stdout",
          "text": [
            "data data data \n"
          ]
        }
      ]
    },
    {
      "cell_type": "code",
      "source": [
        "print(len(word))\n",
        "print(str.__len__(word))"
      ],
      "metadata": {
        "colab": {
          "base_uri": "https://localhost:8080/"
        },
        "id": "KgQ8k6OcHv7n",
        "outputId": "56ecf498-ab8d-4101-f061-4422e5ca51b1"
      },
      "execution_count": 44,
      "outputs": [
        {
          "output_type": "stream",
          "name": "stdout",
          "text": [
            "5\n",
            "5\n"
          ]
        }
      ]
    },
    {
      "cell_type": "code",
      "source": [
        "role = 'Data Analyst'\n",
        "skill = 'Python'\n",
        "print('Role: ' + role)"
      ],
      "metadata": {
        "colab": {
          "base_uri": "https://localhost:8080/"
        },
        "id": "PngpgbeCfxFQ",
        "outputId": "e853df0e-392d-4b9d-cbf9-666dbb3f18ea"
      },
      "execution_count": 45,
      "outputs": [
        {
          "output_type": "stream",
          "name": "stdout",
          "text": [
            "Role: Data Analyst\n"
          ]
        }
      ]
    },
    {
      "cell_type": "code",
      "source": [
        "print(\"Role(args): {0}\".format(role))\n",
        "print(\"Role(format-kwargs): {role}\".format(role=role))\n",
        "print(\"Role(format-kwargs): {role}. Skills required: {skill}\".format(role=role, skill=skill))\n",
        "print(f\"Role(f-string): {role}. Skills required: {skill}\")\n",
        "message = \"Role(percent-s): %s. Skills required: %s.\" % (role, skill)\n",
        "print(message)"
      ],
      "metadata": {
        "colab": {
          "base_uri": "https://localhost:8080/"
        },
        "id": "V5jUdFbjgDkC",
        "outputId": "f8ed8af4-13d8-4d0b-bf33-5fded99378c1"
      },
      "execution_count": 51,
      "outputs": [
        {
          "output_type": "stream",
          "name": "stdout",
          "text": [
            "Role(args): Data Analyst\n",
            "Role(format-kwargs): Data Analyst\n",
            "Role(format-kwargs): Data Analyst. Skills required: Python\n",
            "Role(f-string): Data Analyst. Skills required: Python\n",
            "Role(percent-s): Data Analyst. Skills required: Python.\n"
          ]
        }
      ]
    },
    {
      "cell_type": "code",
      "source": [
        "years_experience = \"0123456789\"\n",
        "print(\", \".join(years_experience))\n"
      ],
      "metadata": {
        "colab": {
          "base_uri": "https://localhost:8080/"
        },
        "id": "oXrKG3YGjDD4",
        "outputId": "3371d258-add8-4d56-e6d8-470e43ce9d35"
      },
      "execution_count": 53,
      "outputs": [
        {
          "output_type": "stream",
          "name": "stdout",
          "text": [
            "0, 1, 2, 3, 4, 5, 6, 7, 8, 9\n"
          ]
        }
      ]
    },
    {
      "cell_type": "code",
      "source": [
        "skills = ['SQL', 'Python', 'Excel']\n",
        "print(f\"Skills required: {', '.join(skills)}.\")"
      ],
      "metadata": {
        "colab": {
          "base_uri": "https://localhost:8080/"
        },
        "id": "D-PQ1FqbjcOZ",
        "outputId": "375016fd-eb3b-4ba2-f6c1-83c565eaa026"
      },
      "execution_count": 54,
      "outputs": [
        {
          "output_type": "stream",
          "name": "stdout",
          "text": [
            "Skills required: SQL, Python, Excel.\n"
          ]
        }
      ]
    },
    {
      "cell_type": "code",
      "source": [
        "#int.__sub__(5,3)\n",
        "ten=10\n",
        "ten.__sub__(3)"
      ],
      "metadata": {
        "colab": {
          "base_uri": "https://localhost:8080/"
        },
        "id": "IlgAZItGnCKQ",
        "outputId": "dfc79809-3365-4f23-db61-a7b40918f67c"
      },
      "execution_count": 57,
      "outputs": [
        {
          "output_type": "execute_result",
          "data": {
            "text/plain": [
              "7"
            ]
          },
          "metadata": {},
          "execution_count": 57
        }
      ]
    },
    {
      "cell_type": "code",
      "source": [
        "applicant_1 = \"Kelly\"\n",
        "applicant_2 = \"Luke\"\n",
        "applicant_1, applicant_2 = applicant_2, applicant_1\n",
        "print(applicant_1, applicant_2)"
      ],
      "metadata": {
        "colab": {
          "base_uri": "https://localhost:8080/"
        },
        "id": "_fmINBKCq_Gw",
        "outputId": "b536b6c0-8e2f-4451-8dad-debd679d15ab"
      },
      "execution_count": 58,
      "outputs": [
        {
          "output_type": "stream",
          "name": "stdout",
          "text": [
            "Luke Kelly\n"
          ]
        }
      ]
    },
    {
      "cell_type": "code",
      "source": [
        "job_skill = 'Python'\n",
        "applicant_skill = 'SQL'\n",
        "years_experience = 10\n",
        "\n",
        "if job_skill == applicant_skill:\n",
        "  print(\"Skills match\")\n",
        "elif years_experience >= 5:\n",
        "  print(\"Potential match\")\n",
        "else:\n",
        "  print(\"Skills do not match\")"
      ],
      "metadata": {
        "colab": {
          "base_uri": "https://localhost:8080/"
        },
        "id": "zTmv3VBovYn6",
        "outputId": "e6154223-f1cc-41fa-8761-6ebf0ce737c6"
      },
      "execution_count": 63,
      "outputs": [
        {
          "output_type": "stream",
          "name": "stdout",
          "text": [
            "Potential match\n"
          ]
        }
      ]
    },
    {
      "cell_type": "code",
      "source": [
        "job_skills = ['sql','tableau', 'excel']"
      ],
      "metadata": {
        "id": "wHZmzcc19iez"
      },
      "execution_count": 80,
      "outputs": []
    },
    {
      "cell_type": "code",
      "source": [
        "job_skills.append('python')"
      ],
      "metadata": {
        "id": "uW-P71EX9qoN"
      },
      "execution_count": 81,
      "outputs": []
    },
    {
      "cell_type": "code",
      "source": [
        "print(job_skills)"
      ],
      "metadata": {
        "colab": {
          "base_uri": "https://localhost:8080/"
        },
        "id": "uT-Z-3aI-NU8",
        "outputId": "baf6294e-0af5-4b2f-ba01-04bf51f8ce39"
      },
      "execution_count": 88,
      "outputs": [
        {
          "output_type": "stream",
          "name": "stdout",
          "text": [
            "['sql', 'excel', 'tableau', 'python']\n"
          ]
        }
      ]
    },
    {
      "cell_type": "code",
      "source": [
        "job_skills.pop(1)"
      ],
      "metadata": {
        "colab": {
          "base_uri": "https://localhost:8080/",
          "height": 35
        },
        "id": "SX-2r6u3-WEq",
        "outputId": "bf955f95-f0ce-4da0-c9cd-62ad0278639b"
      },
      "execution_count": 83,
      "outputs": [
        {
          "output_type": "execute_result",
          "data": {
            "text/plain": [
              "'tableau'"
            ],
            "application/vnd.google.colaboratory.intrinsic+json": {
              "type": "string"
            }
          },
          "metadata": {},
          "execution_count": 83
        }
      ]
    },
    {
      "cell_type": "code",
      "source": [
        "job_skills.remove('excel')"
      ],
      "metadata": {
        "id": "xLAAfA4u-e2b"
      },
      "execution_count": 77,
      "outputs": []
    },
    {
      "cell_type": "code",
      "source": [
        "job_skills.insert(2,'tableau')"
      ],
      "metadata": {
        "id": "C_har6br_5Vp"
      },
      "execution_count": 85,
      "outputs": []
    },
    {
      "cell_type": "code",
      "source": [
        "luke_skills = ['python','bigquery','r']\n",
        "kelly_skills = ['python','sql','looker']\n",
        "all_skills = luke_skills + kelly_skills\n",
        "print(all_skills)"
      ],
      "metadata": {
        "colab": {
          "base_uri": "https://localhost:8080/"
        },
        "id": "4fUPMe4vBID6",
        "outputId": "9ad92969-6b0a-4395-d1bc-876779ff26bd"
      },
      "execution_count": 93,
      "outputs": [
        {
          "output_type": "stream",
          "name": "stdout",
          "text": [
            "['python', 'bigquery', 'r', 'python', 'sql', 'looker']\n"
          ]
        }
      ]
    },
    {
      "cell_type": "code",
      "source": [
        "print(all_skills[-1])\n",
        "skill1, skill2, *rest = all_skills\n",
        "print(skill1, skill2)\n",
        "print(rest)"
      ],
      "metadata": {
        "colab": {
          "base_uri": "https://localhost:8080/"
        },
        "id": "Ij0_y4ImFQDk",
        "outputId": "00164631-04b9-47a2-8ce8-58ff7a7c0023"
      },
      "execution_count": 97,
      "outputs": [
        {
          "output_type": "stream",
          "name": "stdout",
          "text": [
            "looker\n",
            "python bigquery\n",
            "['r', 'python', 'sql', 'looker']\n"
          ]
        }
      ]
    },
    {
      "cell_type": "code",
      "source": [
        "all_distinct_skills = set(luke_skills) | set(kelly_skills)\n",
        "print(list(all_distinct_skills))"
      ],
      "metadata": {
        "colab": {
          "base_uri": "https://localhost:8080/"
        },
        "id": "3A_DnCrUE66k",
        "outputId": "f3f25964-eeba-4e07-d9de-6940e3f63f7a"
      },
      "execution_count": 95,
      "outputs": [
        {
          "output_type": "stream",
          "name": "stdout",
          "text": [
            "['python', 'bigquery', 'r', 'sql', 'looker']\n"
          ]
        }
      ]
    },
    {
      "cell_type": "code",
      "source": [
        "skills_tuple=set(all_distinct_skills)\n",
        "skill1, skill2, *rest = skills_tuple\n",
        "print(skills_tuple)\n",
        "print(skill1, skill2)\n",
        "print(rest)"
      ],
      "metadata": {
        "colab": {
          "base_uri": "https://localhost:8080/"
        },
        "id": "FDZsYQZHGyMU",
        "outputId": "c1b42acc-6605-4f4c-b82d-e910e0d42ff8"
      },
      "execution_count": 100,
      "outputs": [
        {
          "output_type": "stream",
          "name": "stdout",
          "text": [
            "{'python', 'bigquery', 'r', 'sql', 'looker'}\n",
            "python bigquery\n",
            "['r', 'sql', 'looker']\n"
          ]
        }
      ]
    },
    {
      "cell_type": "code",
      "source": [
        "job_type_skills = {\n",
        "    \"database\": \"postgresql\",\n",
        "    \"language\": \"python\",\n",
        "    \"cloud\": \"aws\",\n",
        "    \"library\": \"pandas\"\n",
        "}\n",
        "job_type_skills"
      ],
      "metadata": {
        "colab": {
          "base_uri": "https://localhost:8080/"
        },
        "id": "tjhktUBlISe2",
        "outputId": "79e6dc99-7110-41ee-c30b-193ea263bc55"
      },
      "execution_count": 105,
      "outputs": [
        {
          "output_type": "execute_result",
          "data": {
            "text/plain": [
              "{'database': 'postgresql',\n",
              " 'language': 'python',\n",
              " 'cloud': 'aws',\n",
              " 'library': 'pandas'}"
            ]
          },
          "metadata": {},
          "execution_count": 105
        }
      ]
    },
    {
      "cell_type": "code",
      "source": [
        "print(job_type_skills.get(\"database\"))\n",
        "print(job_type_skills[\"cloud\"])"
      ],
      "metadata": {
        "colab": {
          "base_uri": "https://localhost:8080/"
        },
        "id": "Vq4C4BFcKuVu",
        "outputId": "4e4ad0b7-dac6-4dd1-c76d-ac4ba07b335c"
      },
      "execution_count": 107,
      "outputs": [
        {
          "output_type": "stream",
          "name": "stdout",
          "text": [
            "postgresql\n",
            "aws\n"
          ]
        }
      ]
    },
    {
      "cell_type": "code",
      "source": [
        "print(job_type_skills.get(\"source_control\"))\n"
      ],
      "metadata": {
        "colab": {
          "base_uri": "https://localhost:8080/"
        },
        "id": "cP3VDD2KLB8E",
        "outputId": "2d465e9a-f52a-4055-8b2b-afbcbd6b707a"
      },
      "execution_count": 110,
      "outputs": [
        {
          "output_type": "stream",
          "name": "stdout",
          "text": [
            "None\n"
          ]
        }
      ]
    },
    {
      "cell_type": "code",
      "source": [
        "for key in job_type_skills.keys():\n",
        "  print(f\"{key}={job_type_skills[key]}\")"
      ],
      "metadata": {
        "colab": {
          "base_uri": "https://localhost:8080/"
        },
        "id": "bixLwezrL82d",
        "outputId": "e312963e-4107-4025-96c4-9c5c758091fc"
      },
      "execution_count": 112,
      "outputs": [
        {
          "output_type": "stream",
          "name": "stdout",
          "text": [
            "database=postgresql\n",
            "language=python\n",
            "cloud=aws\n",
            "library=pandas\n"
          ]
        }
      ]
    },
    {
      "cell_type": "code",
      "source": [
        "print(job_type_skills)"
      ],
      "metadata": {
        "colab": {
          "base_uri": "https://localhost:8080/"
        },
        "id": "drqx5w1yMwRD",
        "outputId": "abe1523f-b40b-4149-d604-57438817cf47"
      },
      "execution_count": 119,
      "outputs": [
        {
          "output_type": "stream",
          "name": "stdout",
          "text": [
            "{'database': 'postgresql', 'language': 'python', 'library': 'pandas', 'source_control': 'gitlab'}\n"
          ]
        }
      ]
    },
    {
      "cell_type": "code",
      "source": [
        "cloud=job_type_skills.pop(\"cloud\")\n",
        "print(cloud)\n"
      ],
      "metadata": {
        "colab": {
          "base_uri": "https://localhost:8080/"
        },
        "id": "IPG5ae0dMXHJ",
        "outputId": "196f45d2-994b-4aa0-c693-201d938928f1"
      },
      "execution_count": 114,
      "outputs": [
        {
          "output_type": "stream",
          "name": "stdout",
          "text": [
            "aws\n"
          ]
        }
      ]
    },
    {
      "cell_type": "code",
      "source": [
        "job_type_skills.update({\"source_control\": \"gitlab\"})"
      ],
      "metadata": {
        "id": "QQGYVxFuNIFc"
      },
      "execution_count": 118,
      "outputs": []
    }
  ]
}