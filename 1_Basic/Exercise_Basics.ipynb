{
  "nbformat": 4,
  "nbformat_minor": 0,
  "metadata": {
    "colab": {
      "provenance": []
    },
    "kernelspec": {
      "name": "python3",
      "display_name": "Python 3"
    },
    "language_info": {
      "name": "python"
    }
  },
  "cells": [
    {
      "cell_type": "code",
      "execution_count": 14,
      "metadata": {
        "id": "wtcxagX_KO9T"
      },
      "outputs": [],
      "source": [
        "# Define data science job roles and required skills\n",
        "job_roles = [\n",
        "    {'role': 'Junior Data Analyst', 'skills': ['Python', 'SQL']},\n",
        "    {'role': 'Data Analyst', 'skills': ['Python', 'SQL', 'Excel']},\n",
        "    {'role': 'Data Scientist', 'skills': ['Python', 'R', 'Machine Learning', 'Deep Learning']},\n",
        "    {'role': 'Machine Learning Engineer', 'skills': ['Python', 'TensorFlow', 'PyTorch', 'Scikit-Learn']},\n",
        "    {'role': 'Data Engineer', 'skills': ['Python', 'Apache Spark', 'Hadoop', 'SQL']},\n",
        "    {'role': 'Business Intelligence Analyst', 'skills': ['Python', 'SQL', 'Tableau', 'Power BI', 'Excel']},\n",
        "    {'role': 'Quantitative Analyst', 'skills': ['R', 'Python', 'MATLAB', 'Statistics']},\n",
        "    {'role': 'Operations Analyst', 'skills': ['Python', 'SQL', 'Data Visualization', 'Process Improvement']},\n",
        "    {'role': 'Database Administrator', 'skills': ['SQL', 'Oracle', 'MySQL', 'Database Management']},\n",
        "    {'role': 'AI Engineer', 'skills': ['Python', 'TensorFlow', 'PyTorch', 'Computer Vision']},\n",
        "    {'role': 'Statistician', 'skills': ['R', 'SAS', 'Python', 'Statistical Modeling']}\n",
        "]\n",
        "# My skills\n",
        "my_skills = ['Python', 'SQL', 'Excel', \"Javascript\",\".Net\",\"React\",\"NextJS\"]"
      ]
    },
    {
      "cell_type": "code",
      "source": [
        "qualified_roles = []\n",
        "min_skill_count = 3\n",
        "for job in job_roles:\n",
        "  required_skills = job['skills']\n",
        "  all_skills = True\n",
        "  skill_count = 0\n",
        "  for skill in required_skills:\n",
        "    if skill in my_skills:\n",
        "      skill_count += 1\n",
        "    else:\n",
        "      all_skills = False\n",
        "  if all_skills or skill_count >= min_skill_count:\n",
        "    qualified_roles.append(job['role'])\n",
        "\n",
        "print(qualified_roles)"
      ],
      "metadata": {
        "colab": {
          "base_uri": "https://localhost:8080/"
        },
        "id": "0qAjCgpHKfLV",
        "outputId": "4d39d875-8e05-407a-9dbf-b0e61e4d2ef7"
      },
      "execution_count": 15,
      "outputs": [
        {
          "output_type": "stream",
          "name": "stdout",
          "text": [
            "['Junior Data Analyst', 'Data Analyst', 'Business Intelligence Analyst']\n"
          ]
        }
      ]
    },
    {
      "cell_type": "code",
      "source": [
        "def some(iterable, min_count):\n",
        "    count = 0\n",
        "    all = True\n",
        "    for element in iterable:\n",
        "        if element:\n",
        "            count += 1\n",
        "            if count >= min_count:\n",
        "                return True\n",
        "        else:\n",
        "          all = False\n",
        "    return all\n",
        "\n",
        "qualified_roles = []\n",
        "for job in job_roles:\n",
        "  required_skills = job['skills']\n",
        "  #if all(skill in my_skills for skill in required_skills):\n",
        "  if some((skill in my_skills for skill in required_skills), 3):\n",
        "    qualified_roles.append(job['role'])\n",
        "\n",
        "print(qualified_roles)"
      ],
      "metadata": {
        "colab": {
          "base_uri": "https://localhost:8080/"
        },
        "id": "1YN_3H7jMd4g",
        "outputId": "0e25c857-bd6d-4984-bc6a-977f940678bb"
      },
      "execution_count": 21,
      "outputs": [
        {
          "output_type": "stream",
          "name": "stdout",
          "text": [
            "['Junior Data Analyst', 'Data Analyst', 'Business Intelligence Analyst']\n"
          ]
        }
      ]
    },
    {
      "cell_type": "code",
      "source": [
        "from functools import reduce\n",
        "\n",
        "def is_qualified(job_skills, my_skills):\n",
        "  min_skill_count = 3\n",
        "  # all_skills = True\n",
        "  # skill_count = 0\n",
        "  # for job_skill in job_skills:\n",
        "  #   if job_skill in my_skills:\n",
        "  #     skill_count += 1\n",
        "  #   else:\n",
        "  #     all_skills = False\n",
        "  skill_count = reduce(lambda acc, job_skill: acc+1 if job_skill in my_skills else acc,\n",
        "                 job_skills, 0)\n",
        "  return skill_count == len(job_skills) or skill_count >= min_skill_count\n",
        "\n",
        "#qualified_roles_comprehension = [job['role'] for job in job_roles if all(skill in my_skills for skill in job['skills'])]\n",
        "qualified_roles_comprehension = [job['role'] for job in job_roles if is_qualified(job['skills'], my_skills)]\n",
        "qualified_roles_comprehension"
      ],
      "metadata": {
        "colab": {
          "base_uri": "https://localhost:8080/"
        },
        "id": "XVdap7_pOqhE",
        "outputId": "5e314362-5dbc-405b-cd8c-2be1b8bd7e25"
      },
      "execution_count": 19,
      "outputs": [
        {
          "output_type": "execute_result",
          "data": {
            "text/plain": [
              "['Junior Data Analyst', 'Data Analyst', 'Business Intelligence Analyst']"
            ]
          },
          "metadata": {},
          "execution_count": 19
        }
      ]
    },
    {
      "cell_type": "code",
      "source": [
        "def some(iterable, min_count):\n",
        "    count = 0\n",
        "    all = True\n",
        "    for element in iterable:\n",
        "        if element:\n",
        "            count += 1\n",
        "            if count >= min_count:\n",
        "                return True\n",
        "        else:\n",
        "          all = False\n",
        "    return all\n",
        "\n",
        "qualified_roles_comprehension = [job['role'] for job in job_roles if some((skill in my_skills for skill in job['skills']), 3)]\n",
        "qualified_roles_comprehension"
      ],
      "metadata": {
        "colab": {
          "base_uri": "https://localhost:8080/"
        },
        "id": "MDC1t0E8dJ7_",
        "outputId": "33baf4d4-08f8-4339-c31c-428e59988c2f"
      },
      "execution_count": 22,
      "outputs": [
        {
          "output_type": "execute_result",
          "data": {
            "text/plain": [
              "['Junior Data Analyst', 'Data Analyst', 'Business Intelligence Analyst']"
            ]
          },
          "metadata": {},
          "execution_count": 22
        }
      ]
    },
    {
      "cell_type": "code",
      "source": [
        "if len(qualified_roles) > 0:\n",
        "  print(f\"I am qualified for the following job roles: {', '.join(qualified_roles)}.\")\n",
        "else:\n",
        "  print(\"There are no matching job roles for my skills\")"
      ],
      "metadata": {
        "colab": {
          "base_uri": "https://localhost:8080/"
        },
        "id": "ycnLRvMrN7EG",
        "outputId": "c7e2e695-8a9b-4187-fd41-7dfc8b9a138b"
      },
      "execution_count": 7,
      "outputs": [
        {
          "output_type": "stream",
          "name": "stdout",
          "text": [
            "I am qualified for the following job roles: Data Analyst, Business Intelligence Analyst.\n"
          ]
        }
      ]
    }
  ]
}