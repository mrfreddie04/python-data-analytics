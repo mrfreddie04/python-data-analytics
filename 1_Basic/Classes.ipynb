{
  "nbformat": 4,
  "nbformat_minor": 0,
  "metadata": {
    "colab": {
      "provenance": []
    },
    "kernelspec": {
      "name": "python3",
      "display_name": "Python 3"
    },
    "language_info": {
      "name": "python"
    }
  },
  "cells": [
    {
      "cell_type": "code",
      "execution_count": 1,
      "metadata": {
        "id": "OdbIvG7up3lZ"
      },
      "outputs": [],
      "source": [
        "class LukesList:\n",
        "    def __init__(self):\n",
        "        \"\"\"Initialize an empty list.\"\"\"\n",
        "        self._items = []\n",
        "\n",
        "    def add(self, item):\n",
        "        \"\"\"Add an item to the end of the list.\"\"\"\n",
        "        self._items.append(item)\n",
        "\n",
        "    def __getitem__(self, index):\n",
        "        \"\"\"Retrieve an item by index.\"\"\"\n",
        "        return self._items[index]\n",
        "\n",
        "    def __setitem__(self, index, value):\n",
        "        \"\"\"Set an item at a specific index.\"\"\"\n",
        "        self._items[index] = value\n",
        "\n",
        "    def __repr__(self):\n",
        "        \"\"\"Return a string representation of the list.\"\"\"\n",
        "        return str(self._items)\n",
        "\n",
        "    def __len__(self):\n",
        "        \"\"\"Return the length of the list.\"\"\"\n",
        "        return len(self._items)"
      ]
    },
    {
      "cell_type": "code",
      "source": [
        "class BaseSalary:\n",
        "  def __init__(self, base_salary, bonus_rate=0.1, symbol=\"$\"):\n",
        "    self.base_salary = base_salary\n",
        "    self.bonus_rate = bonus_rate\n",
        "    self.symbol = symbol\n",
        "    self.total_salary = round(base_salary * (1 + bonus_rate),2)\n",
        "    self.bonus = round(self.total_salary - base_salary,2)\n",
        "\n",
        "  def __repr__(self):\n",
        "    return f\"{self.symbol}{self.base_salary:,.0f}\"\n",
        "\n",
        "  def calculate_total_salary(self):\n",
        "    return round(self.base_salary * (1 + self.bonus_rate),2)\n",
        "\n",
        "  def calculate_bonus_rate(self):\n",
        "    return round((self.calculate_total_salary() - self.base_salary)/ self.base_salary,4)\n",
        "\n",
        "  def show_salary(self):\n",
        "    return f\"{self.symbol}{self.total_salary:,.0f}\"\n",
        "\n",
        "  def show_bonus(self):\n",
        "    return f\"{self.symbol}{self.bonus:,.0f}\"\n",
        "\n"
      ],
      "metadata": {
        "id": "zlNybGtv-qkK"
      },
      "execution_count": 25,
      "outputs": []
    },
    {
      "cell_type": "code",
      "source": [
        "salary = BaseSalary(100000)\n",
        "#salary.show_salary()\n",
        "print(salary)"
      ],
      "metadata": {
        "colab": {
          "base_uri": "https://localhost:8080/"
        },
        "id": "qMxrS5_3An9i",
        "outputId": "facad2a3-364b-4b79-d4f7-2f2e89e50ffc"
      },
      "execution_count": 26,
      "outputs": [
        {
          "output_type": "stream",
          "name": "stdout",
          "text": [
            "$100,000\n"
          ]
        }
      ]
    },
    {
      "cell_type": "code",
      "source": [
        "print(salary.calculate_total_salary())\n",
        "print(salary.calculate_bonus_rate())\n",
        "print(salary.show_salary())\n",
        "print(salary.show_bonus())"
      ],
      "metadata": {
        "colab": {
          "base_uri": "https://localhost:8080/"
        },
        "id": "YFrI8pEtP0v7",
        "outputId": "c16710d5-c0a3-4285-ae24-f93a6027ec9b"
      },
      "execution_count": 29,
      "outputs": [
        {
          "output_type": "stream",
          "name": "stdout",
          "text": [
            "110000.0\n",
            "0.1\n",
            "$110,000\n",
            "$10,000\n"
          ]
        }
      ]
    }
  ]
}