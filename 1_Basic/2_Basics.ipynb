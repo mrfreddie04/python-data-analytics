{
  "nbformat": 4,
  "nbformat_minor": 0,
  "metadata": {
    "colab": {
      "provenance": []
    },
    "kernelspec": {
      "name": "python3",
      "display_name": "Python 3"
    },
    "language_info": {
      "name": "python"
    }
  },
  "cells": [
    {
      "cell_type": "code",
      "execution_count": 2,
      "metadata": {
        "colab": {
          "base_uri": "https://localhost:8080/"
        },
        "id": "ANC1uZ3SPH3d",
        "outputId": "b1792788-108a-4083-f9c6-39c2aa55b43e"
      },
      "outputs": [
        {
          "output_type": "execute_result",
          "data": {
            "text/plain": [
              "{'python', 'sql', 'statistics', 'tableau'}"
            ]
          },
          "metadata": {},
          "execution_count": 2
        }
      ],
      "source": [
        "job_skills= {\"python\", \"sql\", \"statistics\", \"tableau\"}\n",
        "job_skills"
      ]
    },
    {
      "cell_type": "code",
      "source": [
        "skill_List = ['python','sql','statistics','tableau','python','sql','statistics','tableau']"
      ],
      "metadata": {
        "id": "r1FKMzobQ5YE"
      },
      "execution_count": 3,
      "outputs": []
    },
    {
      "cell_type": "code",
      "source": [
        "skill_list_distinct = list(set(skill_List))\n",
        "skill_list_distinct"
      ],
      "metadata": {
        "colab": {
          "base_uri": "https://localhost:8080/"
        },
        "id": "aWY3h2aVSfjq",
        "outputId": "53df7337-0aaf-4939-9106-1e462d8f5924"
      },
      "execution_count": 5,
      "outputs": [
        {
          "output_type": "execute_result",
          "data": {
            "text/plain": [
              "['sql', 'statistics', 'tableau', 'python']"
            ]
          },
          "metadata": {},
          "execution_count": 5
        }
      ]
    },
    {
      "cell_type": "code",
      "source": [
        "lukes_skills = (\"python\", \"sql\", \"statistics\", \"tableau\")"
      ],
      "metadata": {
        "id": "eQFsmUiCWkAL"
      },
      "execution_count": 6,
      "outputs": []
    },
    {
      "cell_type": "code",
      "source": [
        "print(lukes_skills[0])\n",
        "print(lukes_skills[:2])\n"
      ],
      "metadata": {
        "colab": {
          "base_uri": "https://localhost:8080/"
        },
        "id": "0n1l8dXCWx-L",
        "outputId": "a2a68c28-93cb-4cfa-89e2-37b2874b4d60"
      },
      "execution_count": 7,
      "outputs": [
        {
          "output_type": "stream",
          "name": "stdout",
          "text": [
            "python\n",
            "('python', 'sql')\n"
          ]
        }
      ]
    },
    {
      "cell_type": "code",
      "source": [
        "r = range(2,5)\n",
        "for item in r:\n",
        "  print(item)"
      ],
      "metadata": {
        "colab": {
          "base_uri": "https://localhost:8080/"
        },
        "id": "1g-LkS7tYPO7",
        "outputId": "5861cf1e-6184-4943-9170-5c06d18c8901"
      },
      "execution_count": 9,
      "outputs": [
        {
          "output_type": "stream",
          "name": "stdout",
          "text": [
            "2\n",
            "3\n",
            "4\n"
          ]
        }
      ]
    },
    {
      "cell_type": "code",
      "source": [
        "\"a\" in \"abecadło\""
      ],
      "metadata": {
        "colab": {
          "base_uri": "https://localhost:8080/"
        },
        "id": "MkogCM6Rfr28",
        "outputId": "bb19eb39-a17f-41c2-bb39-a13d95b61865"
      },
      "execution_count": 13,
      "outputs": [
        {
          "output_type": "execute_result",
          "data": {
            "text/plain": [
              "True"
            ]
          },
          "metadata": {},
          "execution_count": 13
        }
      ]
    },
    {
      "cell_type": "code",
      "source": [
        "type(\"abc\") is str"
      ],
      "metadata": {
        "colab": {
          "base_uri": "https://localhost:8080/"
        },
        "id": "t6x-u3LEh17t",
        "outputId": "23ea8a94-979e-4b56-8368-c5b6c15e851b"
      },
      "execution_count": 14,
      "outputs": [
        {
          "output_type": "execute_result",
          "data": {
            "text/plain": [
              "True"
            ]
          },
          "metadata": {},
          "execution_count": 14
        }
      ]
    },
    {
      "cell_type": "code",
      "source": [
        "str1=\"abc\"\n",
        "str2=str1\n",
        "print(id(str1),id(str2))\n",
        "str1 is str2"
      ],
      "metadata": {
        "colab": {
          "base_uri": "https://localhost:8080/"
        },
        "id": "Uq7Hcio1h6or",
        "outputId": "3c7dd968-7b60-436a-9e27-f1b2bce3e4bf"
      },
      "execution_count": 16,
      "outputs": [
        {
          "output_type": "stream",
          "name": "stdout",
          "text": [
            "9838528 9838528\n"
          ]
        },
        {
          "output_type": "execute_result",
          "data": {
            "text/plain": [
              "True"
            ]
          },
          "metadata": {},
          "execution_count": 16
        }
      ]
    },
    {
      "cell_type": "code",
      "source": [
        "numbers = [0,1,2,3,4,5]\n",
        "odd_numbers = []\n",
        "for number in numbers:\n",
        "  if number % 2 == 1:\n",
        "    odd_numbers.append(number)\n",
        "odd_numbers\n"
      ],
      "metadata": {
        "colab": {
          "base_uri": "https://localhost:8080/"
        },
        "id": "xIdX95nTj75E",
        "outputId": "6a0ac703-7805-469d-fd3c-3e9bf5194aec"
      },
      "execution_count": 21,
      "outputs": [
        {
          "output_type": "execute_result",
          "data": {
            "text/plain": [
              "[1, 3, 5]"
            ]
          },
          "metadata": {},
          "execution_count": 21
        }
      ]
    },
    {
      "cell_type": "code",
      "source": [
        "list(filter(lambda number: number % 2 ==1,numbers))"
      ],
      "metadata": {
        "colab": {
          "base_uri": "https://localhost:8080/"
        },
        "id": "xfgcG50lmMxF",
        "outputId": "2ba791c8-4e71-4525-f73a-d63c2a85b3d3"
      },
      "execution_count": 22,
      "outputs": [
        {
          "output_type": "execute_result",
          "data": {
            "text/plain": [
              "[1, 3, 5]"
            ]
          },
          "metadata": {},
          "execution_count": 22
        }
      ]
    },
    {
      "cell_type": "code",
      "source": [
        "years_experience = {\n",
        "  'Luke':3,\n",
        "  'Kelly':6,\n",
        "  'Ken':4,\n",
        "  'Alex':3,\n",
        "  \"Mary\": 7\n",
        " }"
      ],
      "metadata": {
        "id": "4f9uPPsKnnvk"
      },
      "execution_count": 36,
      "outputs": []
    },
    {
      "cell_type": "code",
      "source": [
        "for (person,experience) in years_experience.items():\n",
        "  if experience > 5:\n",
        "    print(f\"{person} has {experience} years of experience\")"
      ],
      "metadata": {
        "colab": {
          "base_uri": "https://localhost:8080/"
        },
        "id": "2M1sXiXMoJA0",
        "outputId": "4d5c8689-63fc-499d-9028-f7f470c3b645"
      },
      "execution_count": 38,
      "outputs": [
        {
          "output_type": "stream",
          "name": "stdout",
          "text": [
            "Kelly has 6 years of experience\n",
            "Mary has 7 years of experience\n"
          ]
        }
      ]
    },
    {
      "cell_type": "code",
      "source": [
        "count = 1\n",
        "while count < 5:\n",
        "  print(\"Data Nerd\")\n",
        "  count += 1"
      ],
      "metadata": {
        "colab": {
          "base_uri": "https://localhost:8080/"
        },
        "id": "0VFETHYiqNyd",
        "outputId": "482f4006-0c2b-439d-8c33-a0bcab3be7dc"
      },
      "execution_count": 35,
      "outputs": [
        {
          "output_type": "stream",
          "name": "stdout",
          "text": [
            "Data Nerd\n",
            "Data Nerd\n",
            "Data Nerd\n",
            "Data Nerd\n"
          ]
        }
      ]
    },
    {
      "cell_type": "code",
      "source": [
        "for (person,experience) in years_experience.items():\n",
        "  if experience > 5:\n",
        "    print(f\"{person} has {experience} years of experience\")\n",
        "    break"
      ],
      "metadata": {
        "colab": {
          "base_uri": "https://localhost:8080/"
        },
        "id": "8C7w8rOjq3rl",
        "outputId": "efd99eb0-e2dd-45f8-e704-3e720abb1fef"
      },
      "execution_count": 37,
      "outputs": [
        {
          "output_type": "stream",
          "name": "stdout",
          "text": [
            "Kelly has 6 years of experience\n"
          ]
        }
      ]
    },
    {
      "cell_type": "code",
      "source": [
        "list(years_experience.items())"
      ],
      "metadata": {
        "colab": {
          "base_uri": "https://localhost:8080/"
        },
        "id": "27-HqR4Jr-Cl",
        "outputId": "06f55853-056e-4988-8fbb-ba12a1766e36"
      },
      "execution_count": 40,
      "outputs": [
        {
          "output_type": "execute_result",
          "data": {
            "text/plain": [
              "[('Luke', 3), ('Kelly', 6), ('Ken', 4), ('Alex', 3), ('Mary', 7)]"
            ]
          },
          "metadata": {},
          "execution_count": 40
        }
      ]
    },
    {
      "cell_type": "code",
      "source": [
        "years = 0\n",
        "index = 0\n",
        "applicants = list(years_experience.items())\n",
        "required_experience = 10\n",
        "\n",
        "while years < required_experience and index < len(applicants):\n",
        "  (person,experience) = applicants[index]\n",
        "  years = experience if experience > years else years\n",
        "  index += 1\n",
        "\n",
        "if years >= required_experience:\n",
        "  print(f\"{person} has {experience} years of experience\")\n",
        "else:\n",
        "  print(f\"There are no applicants with at least {required_experience} years of experience\")"
      ],
      "metadata": {
        "colab": {
          "base_uri": "https://localhost:8080/"
        },
        "id": "6qhXgZE0rUnN",
        "outputId": "ec6f33d8-c92c-487a-c1c4-51fa33f7f4e6"
      },
      "execution_count": 46,
      "outputs": [
        {
          "output_type": "stream",
          "name": "stdout",
          "text": [
            "There are no applicants with at least 10 years of experience\n"
          ]
        }
      ]
    },
    {
      "cell_type": "code",
      "source": [
        "numbers = tuple(n**2 for n in range(1,11) if n % 2 == 0)\n",
        "numbers"
      ],
      "metadata": {
        "colab": {
          "base_uri": "https://localhost:8080/"
        },
        "id": "onh47YILDrpw",
        "outputId": "e52135ab-9231-406f-e34e-fb0af8d9e0dc"
      },
      "execution_count": 55,
      "outputs": [
        {
          "output_type": "execute_result",
          "data": {
            "text/plain": [
              "(4, 16, 36, 64, 100)"
            ]
          },
          "metadata": {},
          "execution_count": 55
        }
      ]
    },
    {
      "cell_type": "code",
      "source": [
        "numbers2 = [] #list(range(1,11))\n",
        "for n in range(1,11):\n",
        "    numbers2.append(n*2)\n",
        "numbers2"
      ],
      "metadata": {
        "colab": {
          "base_uri": "https://localhost:8080/"
        },
        "id": "29es3ARfETP_",
        "outputId": "ce1b46b2-70f5-4eee-ffdb-c06ee7bce2b2"
      },
      "execution_count": 52,
      "outputs": [
        {
          "output_type": "execute_result",
          "data": {
            "text/plain": [
              "[2, 4, 6, 8, 10, 12, 14, 16, 18, 20]"
            ]
          },
          "metadata": {},
          "execution_count": 52
        }
      ]
    },
    {
      "cell_type": "code",
      "source": [
        "job_list=[\"C# Programmer\",\"Python Programmer\", \"SQL Programmer\",\"Senior Data Analyst\"]\n",
        "analyst_jobs=[job for job in job_list if \"Data Analyst\" in job]\n",
        "analyst_jobs"
      ],
      "metadata": {
        "colab": {
          "base_uri": "https://localhost:8080/"
        },
        "id": "-lcihbOEHit4",
        "outputId": "edceda27-94ca-4486-9741-27be07579e31"
      },
      "execution_count": 57,
      "outputs": [
        {
          "output_type": "execute_result",
          "data": {
            "text/plain": [
              "['Senior Data Analyst']"
            ]
          },
          "metadata": {},
          "execution_count": 57
        }
      ]
    },
    {
      "cell_type": "code",
      "source": [
        "data_salaries = [95_000,100_000, 85_000, 97_000, 140_000]\n",
        "print(min(data_salaries))\n",
        "print(max(data_salaries))\n",
        "print(sum(data_salaries))"
      ],
      "metadata": {
        "colab": {
          "base_uri": "https://localhost:8080/"
        },
        "id": "5LIoPtz0I9wB",
        "outputId": "792db06e-684f-4772-b1d5-18e77e9a9a36"
      },
      "execution_count": 59,
      "outputs": [
        {
          "output_type": "stream",
          "name": "stdout",
          "text": [
            "85000\n",
            "140000\n",
            "517000\n"
          ]
        }
      ]
    },
    {
      "cell_type": "code",
      "source": [
        "def calculate_salary(base_salary, bonus_rate=0.1):\n",
        "  return round(base_salary * (1 + bonus_rate),2)"
      ],
      "metadata": {
        "id": "tOZXlbgmgxIv"
      },
      "execution_count": 79,
      "outputs": []
    },
    {
      "cell_type": "code",
      "source": [
        "total_salary = calculate_salary(100_000,0.1)\n",
        "total_salary"
      ],
      "metadata": {
        "colab": {
          "base_uri": "https://localhost:8080/"
        },
        "id": "2wVuoYpzhOP5",
        "outputId": "43f1e927-a34f-4297-9b8a-15535e80e5c0"
      },
      "execution_count": 80,
      "outputs": [
        {
          "output_type": "execute_result",
          "data": {
            "text/plain": [
              "110000.0"
            ]
          },
          "metadata": {},
          "execution_count": 80
        }
      ]
    },
    {
      "cell_type": "code",
      "source": [
        "mul_two = lambda x: x*2\n"
      ],
      "metadata": {
        "id": "tbRIAkRVjVuS"
      },
      "execution_count": 81,
      "outputs": []
    },
    {
      "cell_type": "code",
      "source": [
        "(lambda x: x**2+2)(3)"
      ],
      "metadata": {
        "colab": {
          "base_uri": "https://localhost:8080/"
        },
        "id": "f5Is1LaDjogw",
        "outputId": "71f62505-dd32-414e-d56d-841388332af2"
      },
      "execution_count": 84,
      "outputs": [
        {
          "output_type": "execute_result",
          "data": {
            "text/plain": [
              "11"
            ]
          },
          "metadata": {},
          "execution_count": 84
        }
      ]
    },
    {
      "cell_type": "code",
      "source": [
        "print(mul_two(3))"
      ],
      "metadata": {
        "colab": {
          "base_uri": "https://localhost:8080/"
        },
        "id": "drLJBKKljbgZ",
        "outputId": "dbb866e1-d1f9-46d9-cba4-a52a31eea503"
      },
      "execution_count": 82,
      "outputs": [
        {
          "output_type": "stream",
          "name": "stdout",
          "text": [
            "6\n"
          ]
        }
      ]
    },
    {
      "cell_type": "code",
      "source": [
        "salary_list = [95_000,100_000, 85_000, 97_000, 140_000]\n",
        "total_salary_list = [ (lambda s: round(s * 1.1,2))(salary) for salary in salary_list]\n",
        "print(total_salary_list )"
      ],
      "metadata": {
        "colab": {
          "base_uri": "https://localhost:8080/"
        },
        "id": "FC75Z96ukRNj",
        "outputId": "82fe63f3-e72c-4885-b78b-a3652f9ad53a"
      },
      "execution_count": 86,
      "outputs": [
        {
          "output_type": "stream",
          "name": "stdout",
          "text": [
            "[104500.0, 110000.0, 93500.0, 106700.0, 154000.0]\n"
          ]
        }
      ]
    },
    {
      "cell_type": "code",
      "source": [
        "jobs_data = [\n",
        "    {'job_title': 'Data Scientist',  'job_skills': ['Python', 'Machine Learning'], 'remote': True},\n",
        "    {'job_title': 'Data Analyst',  'job_skills': ['Excel', 'SQL'], 'remote': False},\n",
        "    {'job_title': 'Machine Learning Engineer', 'job_skills': ['Python', 'TensorFlow', 'Keras'], 'remote': True},\n",
        "    {'job_title': 'Software Developer', 'job_skills': ['Java', 'C++'], 'remote': True},\n",
        "    {'job_title': 'Data Scientist', 'job_skills': ['R', 'Statistics'], 'remote': False}\n",
        "]"
      ],
      "metadata": {
        "id": "dXCWpScDl8nz"
      },
      "execution_count": 87,
      "outputs": []
    },
    {
      "cell_type": "code",
      "source": [
        "remote_jobs = filter( lambda job: job['remote'] == True and 'python' in [skill.lower() for skill in job['job_skills']], jobs_data)\n",
        "list(remote_jobs)"
      ],
      "metadata": {
        "colab": {
          "base_uri": "https://localhost:8080/"
        },
        "id": "y7d7DV8_mH3J",
        "outputId": "4d8e9327-dac0-4d1d-bb38-24246dcbf60d"
      },
      "execution_count": 91,
      "outputs": [
        {
          "output_type": "execute_result",
          "data": {
            "text/plain": [
              "[{'job_title': 'Data Scientist',\n",
              "  'job_skills': ['Python', 'Machine Learning'],\n",
              "  'remote': True},\n",
              " {'job_title': 'Machine Learning Engineer',\n",
              "  'job_skills': ['Python', 'TensorFlow', 'Keras'],\n",
              "  'remote': True}]"
            ]
          },
          "metadata": {},
          "execution_count": 91
        }
      ]
    },
    {
      "cell_type": "code",
      "source": [
        "import job_analyzer\n",
        "\n",
        "print(job_analyzer.calculate_salary(100_000,0.125))"
      ],
      "metadata": {
        "colab": {
          "base_uri": "https://localhost:8080/"
        },
        "id": "fG98wUz42DMe",
        "outputId": "5c37f440-4e0e-44da-f9d3-5b8b7565d962"
      },
      "execution_count": 3,
      "outputs": [
        {
          "output_type": "stream",
          "name": "stdout",
          "text": [
            "112500.0\n"
          ]
        }
      ]
    }
  ]
}