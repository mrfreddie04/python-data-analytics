{
  "nbformat": 4,
  "nbformat_minor": 0,
  "metadata": {
    "colab": {
      "provenance": []
    },
    "kernelspec": {
      "name": "python3",
      "display_name": "Python 3"
    },
    "language_info": {
      "name": "python"
    }
  },
  "cells": [
    {
      "cell_type": "code",
      "execution_count": 12,
      "metadata": {
        "id": "uXoeDsfDV6CC"
      },
      "outputs": [],
      "source": [
        "import random\n",
        "salary_list = [random.randint(50_000,150_000) for _ in range(10_000_000)]"
      ]
    },
    {
      "cell_type": "code",
      "source": [
        "# verify\n",
        "print(salary_list[:10])"
      ],
      "metadata": {
        "colab": {
          "base_uri": "https://localhost:8080/"
        },
        "id": "JWIQw3t4WxPK",
        "outputId": "fa5781f3-95e0-45c8-d1d5-3921b7a42440"
      },
      "execution_count": 13,
      "outputs": [
        {
          "output_type": "stream",
          "name": "stdout",
          "text": [
            "[93894, 143694, 61146, 51860, 136828, 102163, 67690, 121348, 118238, 120046]\n"
          ]
        }
      ]
    },
    {
      "cell_type": "code",
      "source": [
        "import statistics"
      ],
      "metadata": {
        "id": "4nfWLevfYjH6"
      },
      "execution_count": null,
      "outputs": []
    },
    {
      "cell_type": "code",
      "source": [
        "%%timeit\n",
        "statistics.median(salary_list)"
      ],
      "metadata": {
        "colab": {
          "base_uri": "https://localhost:8080/"
        },
        "id": "FHpXh3PYXBmB",
        "outputId": "fa972ea6-961b-4dbc-966b-053511b1eac3"
      },
      "execution_count": 16,
      "outputs": [
        {
          "output_type": "stream",
          "name": "stdout",
          "text": [
            "5.41 s ± 325 ms per loop (mean ± std. dev. of 7 runs, 1 loop each)\n"
          ]
        }
      ]
    },
    {
      "cell_type": "code",
      "source": [
        "import numpy as np"
      ],
      "metadata": {
        "id": "PgqIrCXzY2S5"
      },
      "execution_count": 10,
      "outputs": []
    },
    {
      "cell_type": "code",
      "source": [
        "%%timeit\n",
        "np.median(salary_list)"
      ],
      "metadata": {
        "colab": {
          "base_uri": "https://localhost:8080/"
        },
        "id": "UM-1DZoFY5jh",
        "outputId": "035d429e-0164-4a9a-df3d-c0de81bd7df3"
      },
      "execution_count": 17,
      "outputs": [
        {
          "output_type": "stream",
          "name": "stdout",
          "text": [
            "703 ms ± 136 ms per loop (mean ± std. dev. of 7 runs, 1 loop each)\n"
          ]
        }
      ]
    },
    {
      "cell_type": "code",
      "source": [
        "np_array = np.array([1,2,3,4])"
      ],
      "metadata": {
        "id": "LcNIlDRnbBUW"
      },
      "execution_count": 18,
      "outputs": []
    },
    {
      "cell_type": "code",
      "source": [
        "print(np.mean(np_array))\n",
        "print(np_array.mean())"
      ],
      "metadata": {
        "colab": {
          "base_uri": "https://localhost:8080/"
        },
        "id": "pn16-QV6bXDp",
        "outputId": "b420b0ac-00b3-4fe1-d821-a84aa24fc94f"
      },
      "execution_count": 19,
      "outputs": [
        {
          "output_type": "stream",
          "name": "stdout",
          "text": [
            "2.5\n",
            "2.5\n"
          ]
        }
      ]
    },
    {
      "cell_type": "code",
      "source": [
        "job_title= np.array(['Data Analyst','Data Scientist','Data Engineer','Machine Learning Enginner', 'AI Engineer'])\n",
        "base_salaries = np.array([60_000,80_000,75_000,90_000, np.nan])\n",
        "bonus_rates = np.array([0.05,0.1,0.08,0.12, np.nan])"
      ],
      "metadata": {
        "id": "hPhn4hJqcOta"
      },
      "execution_count": 25,
      "outputs": []
    },
    {
      "cell_type": "code",
      "source": [
        "total_salaries = base_salaries + (base_salaries * bonus_rates)\n",
        "print(total_salaries.shape)\n",
        "print(total_salaries)"
      ],
      "metadata": {
        "colab": {
          "base_uri": "https://localhost:8080/"
        },
        "id": "dr03MmAqc1Qa",
        "outputId": "6c9952d2-5cc5-488c-d6c7-4d8178bf9ea7"
      },
      "execution_count": 26,
      "outputs": [
        {
          "output_type": "stream",
          "name": "stdout",
          "text": [
            "(5,)\n",
            "[ 63000.  88000.  81000. 100800.     nan]\n"
          ]
        }
      ]
    },
    {
      "cell_type": "code",
      "source": [
        "np.nanmean(total_salaries)"
      ],
      "metadata": {
        "colab": {
          "base_uri": "https://localhost:8080/"
        },
        "id": "019jTwPHeTlT",
        "outputId": "cc3c43cb-8b99-4b9e-a628-86e065031794"
      },
      "execution_count": 31,
      "outputs": [
        {
          "output_type": "execute_result",
          "data": {
            "text/plain": [
              "nan"
            ]
          },
          "metadata": {},
          "execution_count": 31
        }
      ]
    },
    {
      "cell_type": "code",
      "source": [
        "type(np.nan)"
      ],
      "metadata": {
        "colab": {
          "base_uri": "https://localhost:8080/"
        },
        "id": "zlpjEtl4g2gj",
        "outputId": "336ddaf9-ce7c-4f7d-8175-4f3ac59d848f"
      },
      "execution_count": 30,
      "outputs": [
        {
          "output_type": "execute_result",
          "data": {
            "text/plain": [
              "float"
            ]
          },
          "metadata": {},
          "execution_count": 30
        }
      ]
    }
  ]
}