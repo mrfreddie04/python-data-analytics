{
 "cells": [
  {
   "cell_type": "code",
   "execution_count": 1,
   "metadata": {},
   "outputs": [],
   "source": [
    "import pandas as pd\n",
    "from datasets import load_dataset\n",
    "import matplotlib.pyplot as plt\n",
    "\n",
    "dataset = load_dataset('lukebarousse/data_jobs')\n",
    "df = dataset['train'].to_pandas()\n",
    "df['job_posted_date'] = pd.to_datetime(df['job_posted_date'])"
   ]
  },
  {
   "cell_type": "code",
   "execution_count": 94,
   "metadata": {},
   "outputs": [],
   "source": [
    "df = dataset['train'].to_pandas()\n",
    "df['job_posted_date'] = pd.to_datetime(df['job_posted_date'])"
   ]
  },
  {
   "cell_type": "code",
   "execution_count": 98,
   "metadata": {},
   "outputs": [],
   "source": [
    "df_salary = df[(df['salary_year_avg'].notna())].copy(deep=True)"
   ]
  },
  {
   "cell_type": "code",
   "execution_count": 28,
   "metadata": {},
   "outputs": [],
   "source": [
    "def projected_salary(salary):\n",
    "  return salary * 1.03"
   ]
  },
  {
   "cell_type": "code",
   "execution_count": 29,
   "metadata": {},
   "outputs": [
    {
     "data": {
      "text/plain": [
       "28        112785.00\n",
       "77        144200.00\n",
       "92        123600.00\n",
       "100       235068.66\n",
       "109        91670.00\n",
       "            ...    \n",
       "785624    143392.48\n",
       "785641    154500.00\n",
       "785648    228531.25\n",
       "785682    162225.00\n",
       "785692    162225.00\n",
       "Name: salary_year_avg, Length: 22003, dtype: float64"
      ]
     },
     "execution_count": 29,
     "metadata": {},
     "output_type": "execute_result"
    }
   ],
   "source": [
    "df_salary['salary_year_avg'].apply(projected_salary)"
   ]
  },
  {
   "cell_type": "code",
   "execution_count": 39,
   "metadata": {},
   "outputs": [],
   "source": [
    "df_salary['salary_year_inflated']=df_salary['salary_year_avg'].apply(projected_salary)"
   ]
  },
  {
   "cell_type": "code",
   "execution_count": 49,
   "metadata": {},
   "outputs": [
    {
     "name": "stdout",
     "output_type": "stream",
     "text": [
      "[2712667888.4023438, 2794047925.054414]\n",
      "1.03\n"
     ]
    }
   ],
   "source": [
    "s = list(df_salary[['salary_year_avg','salary_year_inflated']].sum())\n",
    "print(s)\n",
    "print(round(s[1]/s[0],4))"
   ]
  },
  {
   "cell_type": "code",
   "execution_count": null,
   "metadata": {},
   "outputs": [],
   "source": [
    "df_salary['salary_year_inflated']=df_salary['salary_year_avg'].apply(lambda salary: salary * 1.03)"
   ]
  },
  {
   "cell_type": "code",
   "execution_count": 81,
   "metadata": {},
   "outputs": [],
   "source": [
    "import ast\n",
    "def parse_list(skill_list):\n",
    "  return ast.literal_eval(skill_list) if pd.notna(skill_list) else skill_list"
   ]
  },
  {
   "cell_type": "code",
   "execution_count": 95,
   "metadata": {},
   "outputs": [],
   "source": [
    "import ast\n",
    "df['job_skills']=df['job_skills'].apply(lambda skill_list: ast.literal_eval(skill_list) if pd.notna(skill_list) else skill_list)"
   ]
  },
  {
   "cell_type": "code",
   "execution_count": null,
   "metadata": {},
   "outputs": [],
   "source": [
    "df[['job_skills','job_type_skills']]"
   ]
  },
  {
   "cell_type": "code",
   "execution_count": 125,
   "metadata": {},
   "outputs": [],
   "source": [
    "def projected_salary(row):\n",
    "  salary_year_inflated = row['salary_year_avg']\n",
    "  if 'senior' in row['job_title_short'].lower():\n",
    "    salary_year_inflated *= 1.05\n",
    "  else:\n",
    "    salary_year_inflated *= 1.03\n",
    "  return salary_year_inflated"
   ]
  },
  {
   "cell_type": "code",
   "execution_count": null,
   "metadata": {},
   "outputs": [],
   "source": [
    "df_salary['salary_year_inflated']=df_salary.apply(projected_salary,axis=1)"
   ]
  },
  {
   "cell_type": "code",
   "execution_count": 123,
   "metadata": {},
   "outputs": [
    {
     "data": {
      "text/html": [
       "<div>\n",
       "<style scoped>\n",
       "    .dataframe tbody tr th:only-of-type {\n",
       "        vertical-align: middle;\n",
       "    }\n",
       "\n",
       "    .dataframe tbody tr th {\n",
       "        vertical-align: top;\n",
       "    }\n",
       "\n",
       "    .dataframe thead th {\n",
       "        text-align: right;\n",
       "    }\n",
       "</style>\n",
       "<table border=\"1\" class=\"dataframe\">\n",
       "  <thead>\n",
       "    <tr style=\"text-align: right;\">\n",
       "      <th></th>\n",
       "      <th>job_title_short</th>\n",
       "      <th>salary_year_avg</th>\n",
       "      <th>salary_year_inflated</th>\n",
       "    </tr>\n",
       "  </thead>\n",
       "  <tbody>\n",
       "    <tr>\n",
       "      <th>28</th>\n",
       "      <td>Data Scientist</td>\n",
       "      <td>109500.0</td>\n",
       "      <td>112785.00</td>\n",
       "    </tr>\n",
       "    <tr>\n",
       "      <th>77</th>\n",
       "      <td>Data Engineer</td>\n",
       "      <td>140000.0</td>\n",
       "      <td>144200.00</td>\n",
       "    </tr>\n",
       "    <tr>\n",
       "      <th>92</th>\n",
       "      <td>Data Engineer</td>\n",
       "      <td>120000.0</td>\n",
       "      <td>123600.00</td>\n",
       "    </tr>\n",
       "    <tr>\n",
       "      <th>100</th>\n",
       "      <td>Data Scientist</td>\n",
       "      <td>228222.0</td>\n",
       "      <td>235068.66</td>\n",
       "    </tr>\n",
       "    <tr>\n",
       "      <th>109</th>\n",
       "      <td>Data Analyst</td>\n",
       "      <td>89000.0</td>\n",
       "      <td>91670.00</td>\n",
       "    </tr>\n",
       "    <tr>\n",
       "      <th>116</th>\n",
       "      <td>Data Scientist</td>\n",
       "      <td>114000.0</td>\n",
       "      <td>117420.00</td>\n",
       "    </tr>\n",
       "    <tr>\n",
       "      <th>146</th>\n",
       "      <td>Data Engineer</td>\n",
       "      <td>129500.0</td>\n",
       "      <td>133385.00</td>\n",
       "    </tr>\n",
       "    <tr>\n",
       "      <th>180</th>\n",
       "      <td>Data Analyst</td>\n",
       "      <td>90250.0</td>\n",
       "      <td>92957.50</td>\n",
       "    </tr>\n",
       "    <tr>\n",
       "      <th>212</th>\n",
       "      <td>Data Scientist</td>\n",
       "      <td>157500.0</td>\n",
       "      <td>162225.00</td>\n",
       "    </tr>\n",
       "    <tr>\n",
       "      <th>257</th>\n",
       "      <td>Data Scientist</td>\n",
       "      <td>103128.0</td>\n",
       "      <td>106221.84</td>\n",
       "    </tr>\n",
       "    <tr>\n",
       "      <th>307</th>\n",
       "      <td>Data Engineer</td>\n",
       "      <td>185000.0</td>\n",
       "      <td>190550.00</td>\n",
       "    </tr>\n",
       "    <tr>\n",
       "      <th>339</th>\n",
       "      <td>Data Engineer</td>\n",
       "      <td>195000.0</td>\n",
       "      <td>200850.00</td>\n",
       "    </tr>\n",
       "    <tr>\n",
       "      <th>380</th>\n",
       "      <td>Data Engineer</td>\n",
       "      <td>97500.0</td>\n",
       "      <td>100425.00</td>\n",
       "    </tr>\n",
       "    <tr>\n",
       "      <th>388</th>\n",
       "      <td>Data Engineer</td>\n",
       "      <td>89000.0</td>\n",
       "      <td>91670.00</td>\n",
       "    </tr>\n",
       "    <tr>\n",
       "      <th>410</th>\n",
       "      <td>Data Analyst</td>\n",
       "      <td>133285.0</td>\n",
       "      <td>137283.55</td>\n",
       "    </tr>\n",
       "    <tr>\n",
       "      <th>450</th>\n",
       "      <td>Data Scientist</td>\n",
       "      <td>157500.0</td>\n",
       "      <td>162225.00</td>\n",
       "    </tr>\n",
       "    <tr>\n",
       "      <th>495</th>\n",
       "      <td>Senior Data Engineer</td>\n",
       "      <td>168500.0</td>\n",
       "      <td>176925.00</td>\n",
       "    </tr>\n",
       "    <tr>\n",
       "      <th>520</th>\n",
       "      <td>Business Analyst</td>\n",
       "      <td>63000.0</td>\n",
       "      <td>64890.00</td>\n",
       "    </tr>\n",
       "    <tr>\n",
       "      <th>545</th>\n",
       "      <td>Data Engineer</td>\n",
       "      <td>80000.0</td>\n",
       "      <td>82400.00</td>\n",
       "    </tr>\n",
       "    <tr>\n",
       "      <th>571</th>\n",
       "      <td>Data Engineer</td>\n",
       "      <td>110000.0</td>\n",
       "      <td>113300.00</td>\n",
       "    </tr>\n",
       "  </tbody>\n",
       "</table>\n",
       "</div>"
      ],
      "text/plain": [
       "          job_title_short  salary_year_avg  salary_year_inflated\n",
       "28         Data Scientist         109500.0             112785.00\n",
       "77          Data Engineer         140000.0             144200.00\n",
       "92          Data Engineer         120000.0             123600.00\n",
       "100        Data Scientist         228222.0             235068.66\n",
       "109          Data Analyst          89000.0              91670.00\n",
       "116        Data Scientist         114000.0             117420.00\n",
       "146         Data Engineer         129500.0             133385.00\n",
       "180          Data Analyst          90250.0              92957.50\n",
       "212        Data Scientist         157500.0             162225.00\n",
       "257        Data Scientist         103128.0             106221.84\n",
       "307         Data Engineer         185000.0             190550.00\n",
       "339         Data Engineer         195000.0             200850.00\n",
       "380         Data Engineer          97500.0             100425.00\n",
       "388         Data Engineer          89000.0              91670.00\n",
       "410          Data Analyst         133285.0             137283.55\n",
       "450        Data Scientist         157500.0             162225.00\n",
       "495  Senior Data Engineer         168500.0             176925.00\n",
       "520      Business Analyst          63000.0              64890.00\n",
       "545         Data Engineer          80000.0              82400.00\n",
       "571         Data Engineer         110000.0             113300.00"
      ]
     },
     "execution_count": 123,
     "metadata": {},
     "output_type": "execute_result"
    }
   ],
   "source": [
    "df_salary.head(20)[['job_title_short','salary_year_avg','salary_year_inflated']]"
   ]
  }
 ],
 "metadata": {
  "kernelspec": {
   "display_name": "python_course",
   "language": "python",
   "name": "python3"
  },
  "language_info": {
   "codemirror_mode": {
    "name": "ipython",
    "version": 3
   },
   "file_extension": ".py",
   "mimetype": "text/x-python",
   "name": "python",
   "nbconvert_exporter": "python",
   "pygments_lexer": "ipython3",
   "version": "3.11.11"
  }
 },
 "nbformat": 4,
 "nbformat_minor": 2
}
